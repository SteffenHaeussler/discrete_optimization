{
 "cells": [
  {
   "cell_type": "code",
   "execution_count": 336,
   "metadata": {},
   "outputs": [],
   "source": [
    "from collections import deque, OrderedDict, defaultdict\n",
    "import time\n",
    "\n",
    "import numpy as np"
   ]
  },
  {
   "cell_type": "code",
   "execution_count": 337,
   "metadata": {},
   "outputs": [],
   "source": [
    "with open('data/gc_50_3', 'r') as input_data_file:\n",
    "    input_data = input_data_file.read()\n",
    "\n",
    "lines = input_data.split('\\n')\n",
    "\n",
    "first_line = lines[0].split()\n",
    "node_count = int(first_line[0])\n",
    "edge_count = int(first_line[1])"
   ]
  },
  {
   "cell_type": "code",
   "execution_count": 338,
   "metadata": {},
   "outputs": [
    {
     "data": {
      "text/plain": [
       "50"
      ]
     },
     "execution_count": 338,
     "metadata": {},
     "output_type": "execute_result"
    }
   ],
   "source": [
    "node_count"
   ]
  },
  {
   "cell_type": "code",
   "execution_count": 339,
   "metadata": {},
   "outputs": [
    {
     "data": {
      "text/plain": [
       "350"
      ]
     },
     "execution_count": 339,
     "metadata": {},
     "output_type": "execute_result"
    }
   ],
   "source": [
    "edge_count"
   ]
  },
  {
   "cell_type": "code",
   "execution_count": 340,
   "metadata": {},
   "outputs": [],
   "source": [
    "test = defaultdict(list)"
   ]
  },
  {
   "cell_type": "code",
   "execution_count": 341,
   "metadata": {},
   "outputs": [
    {
     "data": {
      "text/plain": [
       "[]"
      ]
     },
     "execution_count": 341,
     "metadata": {},
     "output_type": "execute_result"
    }
   ],
   "source": [
    "test['a']"
   ]
  },
  {
   "cell_type": "code",
   "execution_count": 342,
   "metadata": {},
   "outputs": [],
   "source": [
    "A = np.zeros([node_count,node_count])"
   ]
  },
  {
   "cell_type": "code",
   "execution_count": 343,
   "metadata": {},
   "outputs": [],
   "source": [
    "edges = []\n",
    "adjacent_nodes = defaultdict(list)\n",
    "for i in range(1, edge_count + 1):\n",
    "    line = lines[i]\n",
    "    parts = line.split()\n",
    "    edges.append((int(parts[0]), int(parts[1])))\n",
    "    A[int(parts[0])][int(parts[1])] = 1\n",
    "    A[int(parts[1])][int(parts[0])] = 1\n",
    "    adjacent_nodes[int(parts[0])].append(int(parts[1]))\n",
    "    adjacent_nodes[int(parts[1])].append(int(parts[0]))\n"
   ]
  },
  {
   "cell_type": "code",
   "execution_count": 344,
   "metadata": {},
   "outputs": [
    {
     "data": {
      "text/plain": [
       "array([[0., 0., 0., ..., 0., 0., 1.],\n",
       "       [0., 0., 0., ..., 1., 0., 0.],\n",
       "       [0., 0., 0., ..., 1., 1., 0.],\n",
       "       ...,\n",
       "       [0., 1., 1., ..., 0., 0., 0.],\n",
       "       [0., 0., 1., ..., 0., 0., 0.],\n",
       "       [1., 0., 0., ..., 0., 0., 0.]])"
      ]
     },
     "execution_count": 344,
     "metadata": {},
     "output_type": "execute_result"
    }
   ],
   "source": [
    "A"
   ]
  },
  {
   "cell_type": "code",
   "execution_count": 346,
   "metadata": {},
   "outputs": [],
   "source": [
    "def color_graph(graph, counter):\n",
    "    \n",
    "    while counter:\n",
    "        stack = deque([[k for k, v in sorted(counter.items(), key=lambda item: item[1], reverse=True)][0]])\n",
    "        node = stack.pop()\n",
    "        counter.pop(node, None)\n",
    "\n",
    "        color_set = list(set([graph[i]['color'] for i in graph[node]['adjacent']]))\n",
    "\n",
    "        if len(color_set) == 1 and color_set[0] == -1:\n",
    "            graph[node]['color'] = 0\n",
    "        else:\n",
    "            possible = set(list(range(0, max(color_set)+1)))\n",
    "            diff = possible.difference(set(color_set))\n",
    "            if diff:\n",
    "                color = min(diff)\n",
    "            else:\n",
    "                color = max(possible)+1\n",
    "            graph[node]['color'] = color\n",
    "\n",
    "        for i in graph.keys():\n",
    "            if node in graph[i][\"pruning\"]:\n",
    "                graph[i][\"pruning\"].remove(node)\n",
    "\n",
    "        for i in counter.keys():\n",
    "            counter[i] = len(graph[i][\"pruning\"])\n",
    "            \n",
    "    return graph"
   ]
  },
  {
   "cell_type": "code",
   "execution_count": 347,
   "metadata": {},
   "outputs": [],
   "source": [
    "def update_graph(graph, counter, node_1, node_2):\n",
    "\n",
    "    if node_1 not in graph:\n",
    "        graph[node_1] = {'adjacent': (node_2,), 'pruning': [node_2], 'color': -1, 'update_counter': 1}\n",
    "        counter[node_1] = 1\n",
    "    else:\n",
    "        counter[node_1] += 1\n",
    "        graph[node_1]['update_counter'] += 1\n",
    "        graph[node_1]['adjacent'] += (node_2,)\n",
    "        graph[node_1]['pruning'].append(node_2)\n",
    "\n",
    "    return graph, counter\n",
    "\n",
    "\n",
    "def get_graphs(edges):\n",
    "\n",
    "    graph = OrderedDict()\n",
    "    counter = {}\n",
    "    for edge in edges:\n",
    "        graph, counter = update_graph(graph, counter, edge[0], edge[1])\n",
    "        graph, counter = update_graph(graph, counter, edge[1], edge[0])\n",
    "\n",
    "    return graph, counter\n",
    "\n",
    "\n",
    "def color_graph(graph, counter):\n",
    "\n",
    "    while counter:\n",
    "        stack = deque([[k for k, v in sorted(counter.items(), key=lambda item: item[1], reverse=True)][0]])\n",
    "        node = stack.pop()\n",
    "        counter.pop(node, None)\n",
    "\n",
    "        color_set = list(set([graph[i]['color'] for i in graph[node]['adjacent']]))\n",
    "\n",
    "        if len(color_set) == 1 and color_set[0] == -1:\n",
    "            graph[node]['color'] = 0\n",
    "        else:\n",
    "            possible = set(list(range(0, max(color_set)+1)))\n",
    "            diff = possible.difference(set(color_set))\n",
    "            if diff:\n",
    "                color = min(diff)\n",
    "            else:\n",
    "                color = max(possible)+1\n",
    "            graph[node]['color'] = color\n",
    "\n",
    "        for i in graph.keys():\n",
    "            if node in graph[i][\"pruning\"]:\n",
    "                graph[i][\"pruning\"].remove(node)\n",
    "\n",
    "        for i in counter.keys():\n",
    "            counter[i] = len(graph[i][\"pruning\"])\n",
    "\n",
    "    return graph"
   ]
  },
  {
   "cell_type": "code",
   "execution_count": 352,
   "metadata": {},
   "outputs": [],
   "source": [
    "solution = node_count*[0]\n",
    "for node, value in graph.items():\n",
    "    solution[node] = value['color']"
   ]
  },
  {
   "cell_type": "code",
   "execution_count": 351,
   "metadata": {},
   "outputs": [],
   "source": [
    "for edge in edges:\n",
    "    if solution[edge[0]] == solution[edge[1]]:\n",
    "        print(edge)"
   ]
  },
  {
   "cell_type": "markdown",
   "metadata": {},
   "source": [
    "or-tools"
   ]
  },
  {
   "cell_type": "code",
   "execution_count": 354,
   "metadata": {},
   "outputs": [],
   "source": [
    "from ortools.sat.python import cp_model"
   ]
  },
  {
   "cell_type": "code",
   "execution_count": 383,
   "metadata": {},
   "outputs": [],
   "source": [
    "def or_solver(node_count, edges):\n",
    "\n",
    "    solved = False\n",
    "    max_color = 1\n",
    "\n",
    "    while not solved:\n",
    "\n",
    "        max_color += 1\n",
    "\n",
    "        model = cp_model.CpModel()\n",
    "        variables = [model.NewIntVar(0, max_color-1, f'x{i}') for i in range(node_count)]\n",
    "        for edge in edges:\n",
    "            model.Add(variables[edge[0]] != variables[edge[1]])\n",
    "\n",
    "        solver = cp_model.CpSolver()\n",
    "        solver.parameters.max_time_in_seconds = 30.0\n",
    "        status = solver.Solve(model)\n",
    "\n",
    "        if status == cp_model.FEASIBLE:\n",
    "            print(\"solution feasible\")\n",
    "            solved = True\n",
    "            solution = [solver.Value(var) for var in variables]\n",
    "\n",
    "    return max_color, solution"
   ]
  },
  {
   "cell_type": "code",
   "execution_count": 384,
   "metadata": {},
   "outputs": [
    {
     "name": "stdout",
     "output_type": "stream",
     "text": [
      "solution feasible\n"
     ]
    }
   ],
   "source": [
    "max_color, solution = or_solver(node_count, edges)"
   ]
  },
  {
   "cell_type": "code",
   "execution_count": null,
   "metadata": {},
   "outputs": [],
   "source": []
  }
 ],
 "metadata": {
  "kernelspec": {
   "display_name": "Python 3",
   "language": "python",
   "name": "python3"
  },
  "language_info": {
   "codemirror_mode": {
    "name": "ipython",
    "version": 3
   },
   "file_extension": ".py",
   "mimetype": "text/x-python",
   "name": "python",
   "nbconvert_exporter": "python",
   "pygments_lexer": "ipython3",
   "version": "3.7.5"
  }
 },
 "nbformat": 4,
 "nbformat_minor": 2
}
