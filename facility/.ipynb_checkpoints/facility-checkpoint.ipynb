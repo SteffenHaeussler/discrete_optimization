{
 "cells": [
  {
   "cell_type": "code",
   "execution_count": 1,
   "metadata": {},
   "outputs": [],
   "source": [
    "from collections import namedtuple\n",
    "import math\n",
    "\n",
    "import numpy as np\n",
    "from ortools.linear_solver import pywraplp"
   ]
  },
  {
   "cell_type": "code",
   "execution_count": 2,
   "metadata": {},
   "outputs": [],
   "source": [
    "Point = namedtuple(\"Point\", ['x', 'y'])\n",
    "Facility = namedtuple(\"Facility\", ['index', 'setup_cost', 'capacity', 'location'])\n",
    "Customer = namedtuple(\"Customer\", ['index', 'demand', 'location'])\n",
    "\n",
    "def length(point1, point2):\n",
    "    return math.sqrt((point1.x - point2.x)**2 + (point1.y - point2.y)**2)"
   ]
  },
  {
   "cell_type": "code",
   "execution_count": 3,
   "metadata": {},
   "outputs": [],
   "source": [
    "with open(\"data/fl_50_1\", 'r') as input_data_file:\n",
    "    input_data = input_data_file.read()\n",
    "\n",
    "lines = input_data.split('\\n')\n",
    "\n",
    "parts = lines[0].split()\n",
    "facility_count = int(parts[0])\n",
    "customer_count = int(parts[1])\n",
    "\n",
    "facilities = []\n",
    "for i in range(1, facility_count+1):\n",
    "    parts = lines[i].split()\n",
    "    facilities.append(Facility(i-1, float(parts[0]), int(parts[1]), Point(float(parts[2]), float(parts[3])) ))\n",
    "\n",
    "customers = []\n",
    "for i in range(facility_count+1, facility_count+1+customer_count):\n",
    "    parts = lines[i].split()\n",
    "    customers.append(Customer(i-1-facility_count, int(parts[0]), Point(float(parts[1]), float(parts[2]))))\n"
   ]
  },
  {
   "cell_type": "code",
   "execution_count": 4,
   "metadata": {},
   "outputs": [],
   "source": [
    "def calculate_distance_matrix(customers, facilities):\n",
    "\n",
    "    dist_matrix = np.zeros([len(customers), len(facilities)])\n",
    "\n",
    "    for x, i in enumerate(customers):\n",
    "        for y, j in enumerate(facilities):\n",
    "\n",
    "            distance = length(i.location, j.location)\n",
    "\n",
    "            dist_matrix[x][y] = distance\n",
    "\n",
    "    return dist_matrix"
   ]
  },
  {
   "cell_type": "code",
   "execution_count": 5,
   "metadata": {},
   "outputs": [
    {
     "name": "stdout",
     "output_type": "stream",
     "text": [
      "50\n",
      "50\n"
     ]
    }
   ],
   "source": [
    "print(facility_count)\n",
    "print(customer_count)"
   ]
  },
  {
   "cell_type": "code",
   "execution_count": 6,
   "metadata": {},
   "outputs": [],
   "source": [
    "dist_matrix = calculate_distance_matrix(customers, facilities)"
   ]
  },
  {
   "cell_type": "code",
   "execution_count": 7,
   "metadata": {},
   "outputs": [],
   "source": [
    "solver = pywraplp.Solver('SolveAssignmentProblemMIP',\n",
    "                           pywraplp.Solver.CBC_MIXED_INTEGER_PROGRAMMING)"
   ]
  },
  {
   "cell_type": "code",
   "execution_count": 8,
   "metadata": {},
   "outputs": [],
   "source": [
    "x = []\n",
    "for i in range(len(customers)):\n",
    "    t = []\n",
    "    for j in range(len(facilities)):\n",
    "        t.append(solver.BoolVar(f'x{i},{j}'))\n",
    "\n",
    "    x.append(t)\n",
    "\n",
    "y = [solver.BoolVar(f'y{j}') for j in range(len(facilities))]\n"
   ]
  },
  {
   "cell_type": "code",
   "execution_count": 9,
   "metadata": {},
   "outputs": [],
   "source": [
    "for i in range(len(customers)):\n",
    "    solver.Add(sum([x[i][j] for j in range(len(facilities))]) == customers[i].demand)    \n",
    "\n",
    "# Constraint: a customer must be assigned to an open facility.\n",
    "for i in range(len(customers)):\n",
    "    for j in range(len(facilities)):\n",
    "        solver.Add(x[i][j] <= (y[j]*customers[i].demand))\n",
    "\n",
    "# Constraint: the capacity of each facility must not be exceeded.\n",
    "for j in range(len(facilities)):\n",
    "    solver.Add(sum([x[i][j] for i in range(len(customers))]) <= (facilities[j].capacity * y[j]))\n"
   ]
  },
  {
   "cell_type": "code",
   "execution_count": 10,
   "metadata": {},
   "outputs": [],
   "source": [
    "solver.Minimize(solver.Sum([y[j] * facilities[j].setup_cost for j in range(len(facilities))]) +\n",
    "                solver.Sum([dist_matrix[i][j] * x[i][j] for i in range(len(customers))\n",
    "                                                        for j in range(len(facilities))]))"
   ]
  },
  {
   "cell_type": "code",
   "execution_count": 11,
   "metadata": {},
   "outputs": [],
   "source": [
    "SEC = 1000\n",
    "MIN = 60 * SEC\n",
    "solver.SetTimeLimit(1 * MIN)\n",
    "\n",
    "result_status = solver.Solve()"
   ]
  },
  {
   "cell_type": "code",
   "execution_count": 12,
   "metadata": {},
   "outputs": [],
   "source": [
    "total_cost = solver.Objective().Value()\n",
    "solution = [j for i in range(len(customers))\n",
    "              for j in range(len(facilities))\n",
    "               if x[i][j].solution_value() > 0]"
   ]
  },
  {
   "cell_type": "code",
   "execution_count": 13,
   "metadata": {},
   "outputs": [
    {
     "name": "stdout",
     "output_type": "stream",
     "text": [
      "0.0\n",
      "[]\n"
     ]
    }
   ],
   "source": [
    "print(total_cost)\n",
    "print(solution)"
   ]
  },
  {
   "cell_type": "markdown",
   "metadata": {},
   "source": [
    "## pyscipopt"
   ]
  },
  {
   "cell_type": "code",
   "execution_count": 14,
   "metadata": {},
   "outputs": [],
   "source": [
    "from pyscipopt import Model, quicksum, multidict"
   ]
  },
  {
   "cell_type": "code",
   "execution_count": 15,
   "metadata": {},
   "outputs": [],
   "source": [
    "def flp(I,J,d,M,f,c):\n",
    "    model = Model(\"flp\")\n",
    "    x,y = {},{}\n",
    "    for j in J:\n",
    "        y[j] = model.addVar(vtype=\"B\", name=\"y(%s)\"%j)\n",
    "        for i in I:\n",
    "            x[i,j] = model.addVar(vtype=\"B\", name=\"x(%s,%s)\"%(i,j))\n",
    "    for i in I:\n",
    "        model.addCons(quicksum(x[i,j] for j in J) == 1, \"Demand(%s)\"%i)\n",
    "    for j in M:\n",
    "        model.addCons(quicksum(x[i,j] * d[i] for i in I) <= M[j], \"Capacity(%s)\"%i)\n",
    "    for (i,j) in x:\n",
    "        model.addCons(x[i,j] <= y[j], \"Strong(%s,%s)\"%(i,j))\n",
    "    model.setObjective(\n",
    "        quicksum(f[j]*y[j] for j in J) +\n",
    "        quicksum(c[i,j]*x[i,j] for i in I for j in J),\n",
    "        \"minimize\")\n",
    "    model.data = x,y\n",
    "    return model"
   ]
  },
  {
   "cell_type": "code",
   "execution_count": 16,
   "metadata": {},
   "outputs": [],
   "source": [
    "sci_customers = {1+v.index: v.demand for v in customers}\n",
    "sci_facilities = {1+v.index: [v.capacity, v.setup_cost] for v in facilities}\n",
    "\n",
    "cost = {}\n",
    "for i in range(dist_matrix.shape[0]):\n",
    "    for j in range(dist_matrix.shape[1]):\n",
    "        cost[(i+1,j+1)] = dist_matrix[i][j]"
   ]
  },
  {
   "cell_type": "code",
   "execution_count": 17,
   "metadata": {},
   "outputs": [],
   "source": [
    " I, d = multidict(sci_customers)\n",
    " J, M, f = multidict(sci_facilities)"
   ]
  },
  {
   "cell_type": "code",
   "execution_count": 18,
   "metadata": {},
   "outputs": [],
   "source": [
    "model = flp(I, J, d, M, f, cost)\n",
    "model.optimize()\n",
    "EPS = 1.e-6\n",
    "x,y = model.data"
   ]
  },
  {
   "cell_type": "code",
   "execution_count": 19,
   "metadata": {},
   "outputs": [],
   "source": [
    "total_cost = model.getObjVal()\n",
    "solution = [j-1 for i in sci_customers.keys() for j in sci_facilities.keys() if model.getVal(x[i,j]) > EPS]"
   ]
  },
  {
   "cell_type": "code",
   "execution_count": 20,
   "metadata": {},
   "outputs": [
    {
     "name": "stdout",
     "output_type": "stream",
     "text": [
      "2825999.219090653\n",
      "[1, 1, 1, 9, 1, 1, 14, 1, 1, 1, 22, 1, 9, 1, 1, 1, 1, 14, 1, 1, 1, 1, 1, 1, 1, 1, 0, 1, 1, 1, 1, 1, 1, 33, 1, 1, 49, 9, 9, 1, 9, 9, 1, 1, 9, 9, 1, 1, 1, 1]\n"
     ]
    }
   ],
   "source": [
    "print(total_cost)\n",
    "print(solution)"
   ]
  }
 ],
 "metadata": {
  "kernelspec": {
   "display_name": "Python 3",
   "language": "python",
   "name": "python3"
  },
  "language_info": {
   "codemirror_mode": {
    "name": "ipython",
    "version": 3
   },
   "file_extension": ".py",
   "mimetype": "text/x-python",
   "name": "python",
   "nbconvert_exporter": "python",
   "pygments_lexer": "ipython3",
   "version": "3.7.5"
  }
 },
 "nbformat": 4,
 "nbformat_minor": 2
}
