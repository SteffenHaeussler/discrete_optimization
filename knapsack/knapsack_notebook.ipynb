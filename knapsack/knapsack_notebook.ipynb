{
 "cells": [
  {
   "cell_type": "code",
   "execution_count": 1,
   "metadata": {},
   "outputs": [],
   "source": [
    "from collections import namedtuple, deque\n",
    "from math import ceil\n",
    "import time\n",
    "\n",
    "import numpy as np"
   ]
  },
  {
   "cell_type": "code",
   "execution_count": 2,
   "metadata": {},
   "outputs": [],
   "source": [
    "Item = namedtuple(\"Item\", ['index', 'value', 'weight'])\n",
    "\n",
    "relax_Item = namedtuple(\"Item\", ['index', 'value', 'weight', 'v_w_ratio', 'relaxation'])"
   ]
  },
  {
   "cell_type": "code",
   "execution_count": 3,
   "metadata": {},
   "outputs": [],
   "source": [
    "with open('data/ks_4_0', 'r') as input_data_file:\n",
    "    input_data = input_data_file.read()"
   ]
  },
  {
   "cell_type": "code",
   "execution_count": 4,
   "metadata": {},
   "outputs": [],
   "source": [
    "lines = input_data.split('\\n')\n",
    "\n",
    "firstLine = lines[0].split()\n",
    "item_count = int(firstLine[0])\n",
    "capacity = int(firstLine[1])\n",
    "\n",
    "items = []\n",
    "relax_items = []\n",
    "\n",
    "for i in range(1, item_count+1):\n",
    "    line = lines[i]\n",
    "    parts = line.split()\n",
    "    items.append(Item(i-1, int(parts[0]), int(parts[1])))\n",
    "    relax_items.append(relax_Item(i-1, int(parts[0]), int(parts[1]), round(int(parts[0])/int(parts[1]), 2), 0))"
   ]
  },
  {
   "cell_type": "code",
   "execution_count": 5,
   "metadata": {},
   "outputs": [
    {
     "data": {
      "text/plain": [
       "11"
      ]
     },
     "execution_count": 5,
     "metadata": {},
     "output_type": "execute_result"
    }
   ],
   "source": [
    "capacity"
   ]
  },
  {
   "cell_type": "code",
   "execution_count": 6,
   "metadata": {},
   "outputs": [
    {
     "data": {
      "text/plain": [
       "4"
      ]
     },
     "execution_count": 6,
     "metadata": {},
     "output_type": "execute_result"
    }
   ],
   "source": [
    "item_count"
   ]
  },
  {
   "cell_type": "code",
   "execution_count": 7,
   "metadata": {},
   "outputs": [
    {
     "data": {
      "text/plain": [
       "[Item(index=0, value=8, weight=4),\n",
       " Item(index=1, value=10, weight=5),\n",
       " Item(index=2, value=15, weight=8),\n",
       " Item(index=3, value=4, weight=3)]"
      ]
     },
     "execution_count": 7,
     "metadata": {},
     "output_type": "execute_result"
    }
   ],
   "source": [
    "items"
   ]
  },
  {
   "cell_type": "code",
   "execution_count": 8,
   "metadata": {},
   "outputs": [],
   "source": [
    "def knapsack_dp(items, capacity):\n",
    "    matrix = np.zeros([len(items)+1,capacity+1])\n",
    "    \n",
    "    for i in range(1, len(items)+1):\n",
    "        for c in range(capacity+1):\n",
    "            if items[i-1].weight > c:\n",
    "                matrix[i][c] = matrix[i-1][c]\n",
    "            else:\n",
    "                matrix[i][c] = max(matrix[i-1][c], matrix[i-1][c-items[i-1].weight]+items[i-1].value)\n",
    "\n",
    "    return matrix"
   ]
  },
  {
   "cell_type": "code",
   "execution_count": 9,
   "metadata": {},
   "outputs": [],
   "source": [
    "def reconstruct_knapsack(matrix, items):\n",
    "    remain_capacity = capacity\n",
    "    index_list = [0] * len(items)\n",
    "    for i in range(0, len(items))[::-1]:\n",
    "        if (items[i].weight <=  remain_capacity) and \\\n",
    "        (matrix[i][int(remain_capacity-items[i].weight)]+items[i].value >= matrix[i][int(remain_capacity)]):\n",
    "            index_list[items[i].index] = 1\n",
    "            remain_capacity -= items[i].weight\n",
    "        else:\n",
    "            pass\n",
    "\n",
    "    return index_list"
   ]
  },
  {
   "cell_type": "code",
   "execution_count": 10,
   "metadata": {},
   "outputs": [
    {
     "name": "stdout",
     "output_type": "stream",
     "text": [
      "This took 0.00 seconds\n"
     ]
    }
   ],
   "source": [
    "start_time = time.time()\n",
    "\n",
    "matrix = knapsack_dp(items, capacity)\n",
    "index_list = reconstruct_knapsack(matrix, items)\n",
    "\n",
    "value = matrix[-1][-1]\n",
    "\n",
    "end_time = time.time()\n",
    "\n",
    "print(\"This took %.2f seconds\" % (end_time - start_time))"
   ]
  },
  {
   "cell_type": "code",
   "execution_count": 11,
   "metadata": {},
   "outputs": [],
   "source": [
    "output_data = str(value) + ' ' + str(0) + '\\n'\n",
    "output_data += ' '.join(map(str, index_list))"
   ]
  },
  {
   "cell_type": "code",
   "execution_count": 12,
   "metadata": {},
   "outputs": [
    {
     "data": {
      "text/plain": [
       "'19.0 0\\n0 0 1 1'"
      ]
     },
     "execution_count": 12,
     "metadata": {},
     "output_type": "execute_result"
    }
   ],
   "source": [
    "output_data"
   ]
  },
  {
   "cell_type": "markdown",
   "metadata": {},
   "source": [
    "branch and bound"
   ]
  },
  {
   "cell_type": "code",
   "execution_count": 13,
   "metadata": {},
   "outputs": [],
   "source": [
    "relax_items = sorted(relax_items, key=lambda x: x.v_w_ratio)[::-1]"
   ]
  },
  {
   "cell_type": "code",
   "execution_count": 14,
   "metadata": {},
   "outputs": [],
   "source": [
    "State = namedtuple(\"State\", ['position', 'value', 'free_capacity', 'estimate', 'items'])"
   ]
  },
  {
   "cell_type": "code",
   "execution_count": 15,
   "metadata": {},
   "outputs": [],
   "source": [
    "def linear_relaxation(items, cap, update=False, max_value=0):\n",
    "    solved = False\n",
    "    n_items = len(items)\n",
    "        \n",
    "    for n, i in enumerate(items):\n",
    "        if (cap - i.weight) >= 0:\n",
    "\n",
    "            cap -= i.weight\n",
    "            max_value += i.value\n",
    "\n",
    "            if update:\n",
    "                items[n] = items[n]._replace(relaxation = 1)\n",
    "                \n",
    "            if n == n_items-1:\n",
    "                solved = True\n",
    "\n",
    "            if cap == 0:\n",
    "                solved = True\n",
    "                break\n",
    "\n",
    "        else:\n",
    "            ratio = round((cap / i.weight),2)\n",
    "            max_value += ceil(i.value*ratio)\n",
    "            \n",
    "            if update:\n",
    "                items[n] = items[n]._replace(relaxation = ratio)\n",
    "\n",
    "            break\n",
    "    \n",
    "    return solved, items, max_value"
   ]
  },
  {
   "cell_type": "code",
   "execution_count": 16,
   "metadata": {},
   "outputs": [],
   "source": [
    "def dfs_branch_bound(items, capacity):\n",
    "    \n",
    "    solved, items, init_estimate = linear_relaxation(items, capacity, True)\n",
    "    \n",
    "    init_state = State(0, 0, capacity, init_estimate, ())\n",
    "    solution = State(0, 0, capacity, init_estimate, ())\n",
    "\n",
    "    stack = deque([init_state])\n",
    "    n_items = len(items)\n",
    "\n",
    "    while stack:\n",
    "\n",
    "        current_state = stack.pop()\n",
    "        pos = current_state.position\n",
    "        val = current_state.value\n",
    "        cap = current_state.free_capacity\n",
    "        estimate = current_state.estimate\n",
    "        item_tuple = current_state.items\n",
    "\n",
    "        #if next item is not choosen:\n",
    "        if pos >= n_items:\n",
    "            continue\n",
    "\n",
    "        _, _, estimate = linear_relaxation(items[pos:], cap, False, val)\n",
    "\n",
    "        if solution.value > estimate:\n",
    "            continue\n",
    "\n",
    "        new_state = State(pos+1, val, cap, estimate, item_tuple)\n",
    "        stack.append(new_state)\n",
    "\n",
    "        cap -= items[pos].weight\n",
    "\n",
    "        if cap >= 0:\n",
    "\n",
    "            val += items[pos].value\n",
    "            item_tuple += (items[pos].index,)\n",
    "            new_state = State(pos+1, val, cap, estimate, item_tuple)\n",
    "            stack.append(new_state)\n",
    "            \n",
    "            if val > solution.value:\n",
    "                solution = new_state\n",
    "                \n",
    "    return solution"
   ]
  },
  {
   "cell_type": "code",
   "execution_count": 17,
   "metadata": {},
   "outputs": [
    {
     "data": {
      "text/plain": [
       "State(position=4, value=19, free_capacity=0, estimate=19, items=(2, 3))"
      ]
     },
     "execution_count": 17,
     "metadata": {},
     "output_type": "execute_result"
    }
   ],
   "source": [
    "best = dfs_branch_bound(relax_items, capacity)\n",
    "best"
   ]
  },
  {
   "cell_type": "code",
   "execution_count": 25,
   "metadata": {},
   "outputs": [],
   "source": [
    "index_list = [0]*len(relax_items)\n",
    "value = best.value"
   ]
  },
  {
   "cell_type": "code",
   "execution_count": 26,
   "metadata": {},
   "outputs": [],
   "source": [
    "for i in best.items:\n",
    "    index_list[relax_items[i].index] = 1"
   ]
  },
  {
   "cell_type": "code",
   "execution_count": 27,
   "metadata": {},
   "outputs": [],
   "source": [
    "output_data = str(value) + ' ' + str(0) + '\\n'\n",
    "output_data += ' '.join(map(str, index_list))"
   ]
  },
  {
   "cell_type": "code",
   "execution_count": null,
   "metadata": {},
   "outputs": [],
   "source": []
  }
 ],
 "metadata": {
  "kernelspec": {
   "display_name": "Python 3",
   "language": "python",
   "name": "python3"
  },
  "language_info": {
   "codemirror_mode": {
    "name": "ipython",
    "version": 3
   },
   "file_extension": ".py",
   "mimetype": "text/x-python",
   "name": "python",
   "nbconvert_exporter": "python",
   "pygments_lexer": "ipython3",
   "version": "3.7.5"
  }
 },
 "nbformat": 4,
 "nbformat_minor": 2
}
