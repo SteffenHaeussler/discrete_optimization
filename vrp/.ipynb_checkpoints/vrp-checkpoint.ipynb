{
 "cells": [
  {
   "cell_type": "code",
   "execution_count": 1,
   "metadata": {},
   "outputs": [],
   "source": [
    "import math\n",
    "from collections import namedtuple\n",
    "\n",
    "import numpy as np\n",
    "import numpy.ma as ma\n",
    "import networkx as nx\n"
   ]
  },
  {
   "cell_type": "code",
   "execution_count": 2,
   "metadata": {},
   "outputs": [],
   "source": [
    "Customer = namedtuple(\"Customer\", ['index', 'demand', 'x', 'y'])"
   ]
  },
  {
   "cell_type": "code",
   "execution_count": 3,
   "metadata": {},
   "outputs": [],
   "source": [
    "def length(customer1, customer2):\n",
    "    return math.sqrt((customer1.x - customer2.x)**2 + (customer1.y - customer2.y)**2)"
   ]
  },
  {
   "cell_type": "code",
   "execution_count": 4,
   "metadata": {},
   "outputs": [],
   "source": [
    "with open('data/vrp_5_4_1', 'r') as input_data_file:\n",
    "    input_data = input_data_file.read()\n",
    "\n",
    "\n",
    "lines = input_data.split('\\n')\n",
    "\n",
    "parts = lines[0].split()\n",
    "customer_count = int(parts[0])\n",
    "vehicle_count = int(parts[1])\n",
    "vehicle_capacity = int(parts[2])\n",
    "\n",
    "customers = []\n",
    "for i in range(1, customer_count+1):\n",
    "    line = lines[i]\n",
    "    parts = line.split()\n",
    "    customers.append(Customer(i-1, int(parts[0]), float(parts[1]), float(parts[2])))\n",
    "\n",
    "#the depot is always the first customer in the input\n",
    "depot = customers[0] "
   ]
  },
  {
   "cell_type": "code",
   "execution_count": 5,
   "metadata": {},
   "outputs": [
    {
     "data": {
      "text/plain": [
       "[Customer(index=0, demand=0, x=0.0, y=0.0),\n",
       " Customer(index=1, demand=3, x=0.0, y=10.0),\n",
       " Customer(index=2, demand=3, x=-10.0, y=10.0),\n",
       " Customer(index=3, demand=3, x=0.0, y=-10.0),\n",
       " Customer(index=4, demand=3, x=10.0, y=-10.0)]"
      ]
     },
     "execution_count": 5,
     "metadata": {},
     "output_type": "execute_result"
    }
   ],
   "source": [
    "customers"
   ]
  },
  {
   "cell_type": "code",
   "execution_count": 6,
   "metadata": {},
   "outputs": [
    {
     "data": {
      "text/plain": [
       "4"
      ]
     },
     "execution_count": 6,
     "metadata": {},
     "output_type": "execute_result"
    }
   ],
   "source": [
    "vehicle_count"
   ]
  },
  {
   "cell_type": "code",
   "execution_count": 7,
   "metadata": {},
   "outputs": [
    {
     "data": {
      "text/plain": [
       "10"
      ]
     },
     "execution_count": 7,
     "metadata": {},
     "output_type": "execute_result"
    }
   ],
   "source": [
    "vehicle_capacity"
   ]
  },
  {
   "cell_type": "code",
   "execution_count": 8,
   "metadata": {},
   "outputs": [
    {
     "data": {
      "text/plain": [
       "Customer(index=0, demand=0, x=0.0, y=0.0)"
      ]
     },
     "execution_count": 8,
     "metadata": {},
     "output_type": "execute_result"
    }
   ],
   "source": [
    "depot"
   ]
  },
  {
   "cell_type": "code",
   "execution_count": null,
   "metadata": {},
   "outputs": [],
   "source": []
  },
  {
   "cell_type": "code",
   "execution_count": null,
   "metadata": {},
   "outputs": [],
   "source": []
  },
  {
   "cell_type": "code",
   "execution_count": 9,
   "metadata": {},
   "outputs": [],
   "source": [
    "# build a trivial solution\n",
    "# assign customers to vehicles starting by the largest customer demands\n",
    "vehicle_tours = []\n",
    "\n",
    "remaining_customers = set(customers)\n",
    "remaining_customers.remove(depot)\n",
    "\n",
    "for v in range(0, vehicle_count):\n",
    "    # print \"Start Vehicle: \",v\n",
    "    vehicle_tours.append([])\n",
    "    capacity_remaining = vehicle_capacity\n",
    "    while sum([capacity_remaining >= customer.demand for customer in remaining_customers]) > 0:\n",
    "        used = set()\n",
    "        order = sorted(remaining_customers, key=lambda customer: -customer.demand)\n",
    "        for customer in order:\n",
    "            if capacity_remaining >= customer.demand:\n",
    "                capacity_remaining -= customer.demand\n",
    "                vehicle_tours[v].append(customer)\n",
    "                # print '   add', ci, capacity_remaining\n",
    "                used.add(customer)\n",
    "        remaining_customers -= used\n",
    "\n",
    "# checks that the number of customers served is correct\n",
    "assert sum([len(v) for v in vehicle_tours]) == len(customers) - 1"
   ]
  },
  {
   "cell_type": "code",
   "execution_count": 10,
   "metadata": {},
   "outputs": [],
   "source": [
    "# calculate the cost of the solution; for each vehicle the length of the route\n",
    "obj = 0\n",
    "for v in range(0, vehicle_count):\n",
    "    vehicle_tour = vehicle_tours[v]\n",
    "    if len(vehicle_tour) > 0:\n",
    "        obj += length(depot,vehicle_tour[0])\n",
    "        for i in range(0, len(vehicle_tour)-1):\n",
    "            obj += length(vehicle_tour[i],vehicle_tour[i+1])\n",
    "        obj += length(vehicle_tour[-1],depot)"
   ]
  },
  {
   "cell_type": "code",
   "execution_count": 11,
   "metadata": {},
   "outputs": [],
   "source": [
    "# prepare the solution in the specified output format\n",
    "outputData = '%.2f' % obj + ' ' + str(0) + '\\n'\n",
    "for v in range(0, vehicle_count):\n",
    "    outputData += str(depot.index) + ' ' + ' '.join([str(customer.index) for customer in vehicle_tours[v]]) + ' ' + str(depot.index) + '\\n'\n"
   ]
  },
  {
   "cell_type": "code",
   "execution_count": 12,
   "metadata": {},
   "outputs": [
    {
     "data": {
      "text/plain": [
       "'80.64 0\\n0 4 1 2 0\\n0 3 0\\n0  0\\n0  0\\n'"
      ]
     },
     "execution_count": 12,
     "metadata": {},
     "output_type": "execute_result"
    }
   ],
   "source": [
    "outputData"
   ]
  },
  {
   "cell_type": "code",
   "execution_count": 13,
   "metadata": {},
   "outputs": [],
   "source": [
    "from ortools.constraint_solver import routing_enums_pb2\n",
    "from ortools.constraint_solver import pywrapcp"
   ]
  },
  {
   "cell_type": "code",
   "execution_count": 14,
   "metadata": {},
   "outputs": [],
   "source": [
    "def create_or_model(dist_matrix, vehicle_count, demand, vec_cap):\n",
    "    \"\"\"Stores the data for the problem.\"\"\"\n",
    "    data = {}\n",
    "    data['distance_matrix'] = dist_matrix.tolist() \n",
    "    data['num_vehicles'] = vehicle_count\n",
    "    data['demands'] = demand\n",
    "    data['vehicle_capacities'] = vec_cap\n",
    "\n",
    "    data['depot'] = 0\n",
    "\n",
    "    return data"
   ]
  },
  {
   "cell_type": "code",
   "execution_count": 15,
   "metadata": {},
   "outputs": [],
   "source": [
    "def calculate_distance_matrix(nodes):\n",
    "\n",
    "    n_nodes = len(nodes)\n",
    "    dist_matrix = np.zeros([n_nodes, n_nodes])\n",
    "\n",
    "    for i in range(0, n_nodes-1):\n",
    "        for j in range(1, n_nodes):\n",
    "            if i >= j:\n",
    "                pass\n",
    "\n",
    "            distance = length(nodes[i], nodes[j])\n",
    "\n",
    "            dist_matrix[i][j] = distance\n",
    "            dist_matrix[j][i] = distance\n",
    "\n",
    "            if ((i % 10000) == 0) and (j % 10000) == 0:\n",
    "                print(f\"distance matrix iteration checkv{i} and {j}\")\n",
    "\n",
    "    return dist_matrix"
   ]
  },
  {
   "cell_type": "code",
   "execution_count": 16,
   "metadata": {},
   "outputs": [],
   "source": [
    "def print_solution(data, manager, routing, assignment):\n",
    "    \"\"\"Prints assignment on console.\"\"\"\n",
    "    total_distance = 0\n",
    "    total_load = 0\n",
    "    for vehicle_id in range(data['num_vehicles']):\n",
    "        index = routing.Start(vehicle_id)\n",
    "        plan_output = 'Route for vehicle {}:\\n'.format(vehicle_id)\n",
    "        route_distance = 0\n",
    "        route_load = 0\n",
    "        while not routing.IsEnd(index):\n",
    "            node_index = manager.IndexToNode(index)\n",
    "            route_load += data['demands'][node_index]\n",
    "            plan_output += ' {0} Load({1}) -> '.format(node_index, route_load)\n",
    "            previous_index = index\n",
    "            index = assignment.Value(routing.NextVar(index))\n",
    "            route_distance += routing.GetArcCostForVehicle(\n",
    "                previous_index, index, vehicle_id)\n",
    "        plan_output += ' {0} Load({1})\\n'.format(manager.IndexToNode(index),\n",
    "                                                 route_load)\n",
    "        plan_output += 'Distance of the route: {}m\\n'.format(route_distance)\n",
    "        plan_output += 'Load of the route: {}\\n'.format(route_load)\n",
    "        print(plan_output)\n",
    "        total_distance += route_distance\n",
    "        total_load += route_load\n",
    "    print('Total distance of all routes: {}m'.format(total_distance))\n",
    "    print('Total load of all routes: {}'.format(total_load))"
   ]
  },
  {
   "cell_type": "code",
   "execution_count": 17,
   "metadata": {},
   "outputs": [],
   "source": [
    "dist_matrix = calculate_distance_matrix(customers)"
   ]
  },
  {
   "cell_type": "code",
   "execution_count": null,
   "metadata": {},
   "outputs": [],
   "source": []
  },
  {
   "cell_type": "code",
   "execution_count": 18,
   "metadata": {},
   "outputs": [],
   "source": [
    "demand = [i.demand for i in customers]\n",
    "vec_cap = [vehicle_capacity]*vehicle_count"
   ]
  },
  {
   "cell_type": "code",
   "execution_count": 19,
   "metadata": {},
   "outputs": [],
   "source": [
    "data = create_or_model(dist_matrix, vehicle_count, demand, vec_cap)"
   ]
  },
  {
   "cell_type": "code",
   "execution_count": 20,
   "metadata": {},
   "outputs": [],
   "source": [
    "manager = pywrapcp.RoutingIndexManager(len(data['distance_matrix']),\n",
    "                                       data['num_vehicles'], data['depot'])\n",
    "\n",
    "# Create Routing Model.\n",
    "routing = pywrapcp.RoutingModel(manager)\n"
   ]
  },
  {
   "cell_type": "code",
   "execution_count": 21,
   "metadata": {},
   "outputs": [],
   "source": [
    "def distance_callback(from_index, to_index):\n",
    "    \"\"\"Returns the distance between the two nodes.\"\"\"\n",
    "    # Convert from routing variable Index to distance matrix NodeIndex.\n",
    "    from_node = manager.IndexToNode(from_index)\n",
    "    to_node = manager.IndexToNode(to_index)\n",
    "    return data['distance_matrix'][from_node][to_node]\n",
    "\n",
    "transit_callback_index = routing.RegisterTransitCallback(distance_callback)\n",
    "\n",
    "# Define cost of each arc.\n",
    "routing.SetArcCostEvaluatorOfAllVehicles(transit_callback_index)\n",
    "\n",
    "\n",
    "# Add Capacity constraint.\n",
    "def demand_callback(from_index):\n",
    "    \"\"\"Returns the demand of the node.\"\"\"\n",
    "    # Convert from routing variable Index to demands NodeIndex.\n",
    "    from_node = manager.IndexToNode(from_index)\n",
    "    return data['demands'][from_node]\n"
   ]
  },
  {
   "cell_type": "code",
   "execution_count": 22,
   "metadata": {},
   "outputs": [
    {
     "name": "stdout",
     "output_type": "stream",
     "text": [
      "Route for vehicle 0:\n",
      " 0 Load(0) ->  0 Load(0)\n",
      "Distance of the route: 0m\n",
      "Load of the route: 0\n",
      "\n",
      "Route for vehicle 1:\n",
      " 0 Load(0) ->  0 Load(0)\n",
      "Distance of the route: 0m\n",
      "Load of the route: 0\n",
      "\n",
      "Route for vehicle 2:\n",
      " 0 Load(0) ->  1 Load(3) ->  2 Load(6) ->  0 Load(6)\n",
      "Distance of the route: 34m\n",
      "Load of the route: 6\n",
      "\n",
      "Route for vehicle 3:\n",
      " 0 Load(0) ->  3 Load(3) ->  4 Load(6) ->  0 Load(6)\n",
      "Distance of the route: 34m\n",
      "Load of the route: 6\n",
      "\n",
      "Total distance of all routes: 68m\n",
      "Total load of all routes: 12\n"
     ]
    }
   ],
   "source": [
    "demand_callback_index = routing.RegisterUnaryTransitCallback(\n",
    "    demand_callback)\n",
    "routing.AddDimensionWithVehicleCapacity(\n",
    "    demand_callback_index,\n",
    "    0,  # null capacity slack\n",
    "    data['vehicle_capacities'],  # vehicle maximum capacities\n",
    "    True,  # start cumul to zero\n",
    "    'Capacity')\n",
    "\n",
    "# Setting first solution heuristic.\n",
    "search_parameters = pywrapcp.DefaultRoutingSearchParameters()\n",
    "search_parameters.first_solution_strategy = (\n",
    "    routing_enums_pb2.FirstSolutionStrategy.PATH_CHEAPEST_ARC)\n",
    "\n",
    "# Solve the problem.\n",
    "assignment = routing.SolveWithParameters(search_parameters)\n",
    "\n",
    "# Print solution on console.\n",
    "if assignment:\n",
    "    print_solution(data, manager, routing, assignment)\n"
   ]
  },
  {
   "cell_type": "code",
   "execution_count": null,
   "metadata": {},
   "outputs": [],
   "source": []
  },
  {
   "cell_type": "code",
   "execution_count": null,
   "metadata": {},
   "outputs": [],
   "source": []
  }
 ],
 "metadata": {
  "kernelspec": {
   "display_name": "Python 3",
   "language": "python",
   "name": "python3"
  },
  "language_info": {
   "codemirror_mode": {
    "name": "ipython",
    "version": 3
   },
   "file_extension": ".py",
   "mimetype": "text/x-python",
   "name": "python",
   "nbconvert_exporter": "python",
   "pygments_lexer": "ipython3",
   "version": "3.7.5"
  }
 },
 "nbformat": 4,
 "nbformat_minor": 2
}
