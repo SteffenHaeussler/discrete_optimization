{
 "cells": [
  {
   "cell_type": "code",
   "execution_count": 1,
   "metadata": {},
   "outputs": [],
   "source": [
    "import math\n",
    "from collections import namedtuple\n",
    "\n",
    "import numpy as np\n",
    "import numpy.ma as ma\n",
    "\n",
    "from ortools.constraint_solver import routing_enums_pb2\n",
    "from ortools.constraint_solver import pywrapcp\n",
    "\n",
    "import matplotlib.pyplot as plt\n",
    "\n",
    "\n",
    "Point = namedtuple(\"Point\", ['x', 'y'])"
   ]
  },
  {
   "cell_type": "code",
   "execution_count": 2,
   "metadata": {},
   "outputs": [],
   "source": [
    "def calculate_distance_matrix(nodeCount, points):\n",
    "    \n",
    "    dist_matrix = np.zeros([nodeCount, nodeCount])\n",
    "\n",
    "    for i in range(0, nodeCount-1):\n",
    "        for j in range(1, nodeCount):\n",
    "            if i >= j:\n",
    "                pass\n",
    "\n",
    "            distance = length(points[i], points[j])\n",
    "\n",
    "            dist_matrix[i][j] = distance\n",
    "            dist_matrix[j][i] = distance\n",
    "            \n",
    "    return dist_matrix"
   ]
  },
  {
   "cell_type": "code",
   "execution_count": 3,
   "metadata": {},
   "outputs": [],
   "source": [
    "def length(point1, point2):\n",
    "    return math.sqrt((point1.x - point2.x)**2 + (point1.y - point2.y)**2)"
   ]
  },
  {
   "cell_type": "code",
   "execution_count": 4,
   "metadata": {},
   "outputs": [],
   "source": [
    "with open('data/tsp_264_1', 'r') as input_data_file:\n",
    "    input_data = input_data_file.read()\n",
    "    \n",
    "lines = input_data.split('\\n')\n",
    "\n",
    "nodeCount = int(lines[0])\n",
    "\n",
    "points = []\n",
    "for i in range(1, nodeCount+1):\n",
    "    line = lines[i]\n",
    "    parts = line.split()\n",
    "    points.append(Point(float(parts[0]), float(parts[1])))\n"
   ]
  },
  {
   "cell_type": "code",
   "execution_count": 6,
   "metadata": {},
   "outputs": [],
   "source": [
    "def greedy_solution(n_nodes, points, dist_matrix):\n",
    "    \n",
    "    solution = []\n",
    "    mask = [0]*n_nodes\n",
    "    unvisited = set(range(0, n_nodes))\n",
    "\n",
    "    current = 0\n",
    "\n",
    "    while unvisited:\n",
    "\n",
    "        solution.append(current)\n",
    "        unvisited.remove(current)\n",
    "\n",
    "        mask[current] = 1\n",
    "\n",
    "        current = np.argmin(ma.masked_array(dist_matrix[current], mask=mask))\n",
    "    \n",
    "    return solution"
   ]
  },
  {
   "cell_type": "code",
   "execution_count": 7,
   "metadata": {},
   "outputs": [],
   "source": [
    "def calculate_length(path, dist_matrix, cirlce=True):\n",
    "    if cirlce:\n",
    "        obj = float(dist_matrix[path[-1], path[0]])\n",
    "    else:\n",
    "        obj = 0\n",
    "    for index in range(0, len(path)-1):\n",
    "        obj += float(dist_matrix[path[index], path[index+1]])\n",
    "    return obj"
   ]
  },
  {
   "cell_type": "code",
   "execution_count": 8,
   "metadata": {},
   "outputs": [],
   "source": [
    "def k_opt_tsp(path, dist_matrix, k=2):\n",
    "    \n",
    "    path = path.copy()\n",
    "    orig_length = calculate_length(path, dist_matrix, True)\n",
    "    \n",
    "    for step in range(2,k+1)[::-1]:\n",
    "\n",
    "        for node in range(0,len(path)):\n",
    "            \n",
    "            begin = node-step\n",
    "            end = node\n",
    "            \n",
    "            if begin < 0:\n",
    "                sequence = path[begin:] + path[:end]\n",
    "            else:\n",
    "                sequence = path[begin:end]\n",
    "\n",
    "            if begin < 0:\n",
    "                new_path = sequence[::-1] + path[end:begin]\n",
    "            else:\n",
    "                new_path = path[:begin] + sequence[::-1] + path[end:]\n",
    "\n",
    "            new_length = calculate_length(new_path, dist_matrix, True)\n",
    "\n",
    "            if new_length < orig_length:\n",
    "                \n",
    "                orig_length = new_length\n",
    "                path = new_path.copy()\n",
    "                \n",
    "    return path"
   ]
  },
  {
   "cell_type": "code",
   "execution_count": 9,
   "metadata": {},
   "outputs": [],
   "source": [
    "def find_shortest_path(solution, dist_matrix):\n",
    "    \n",
    "    counter = 0\n",
    "    best = False\n",
    "    best_length = calculate_length(solution, dist_matrix, True)\n",
    "    \n",
    "    while not best:\n",
    "        \n",
    "        solution = k_opt_tsp(solution, dist_matrix, len(solution)//2)\n",
    "\n",
    "        new_length = calculate_length(solution, dist_matrix, True)\n",
    "\n",
    "        counter += 1\n",
    "        print(f\"{counter}. sequence iteration \")\n",
    "        if new_length < best_length:\n",
    "\n",
    "            best_length = new_length\n",
    "\n",
    "        else:\n",
    "            best = True\n",
    "            \n",
    "    return solution"
   ]
  },
  {
   "cell_type": "code",
   "execution_count": 5,
   "metadata": {},
   "outputs": [],
   "source": [
    "dist_matrix = calculate_distance_matrix(nodeCount, points)"
   ]
  },
  {
   "cell_type": "code",
   "execution_count": 10,
   "metadata": {},
   "outputs": [
    {
     "data": {
      "text/plain": [
       "58363.168607678024"
      ]
     },
     "execution_count": 10,
     "metadata": {},
     "output_type": "execute_result"
    }
   ],
   "source": [
    "greedy_solution = greedy_solution(nodeCount, points, dist_matrix)\n",
    "calculate_length(greedy_solution, dist_matrix, True)"
   ]
  },
  {
   "cell_type": "code",
   "execution_count": 11,
   "metadata": {},
   "outputs": [
    {
     "name": "stdout",
     "output_type": "stream",
     "text": [
      "1. sequence iteration \n",
      "2. sequence iteration \n",
      "3. sequence iteration \n"
     ]
    },
    {
     "data": {
      "text/plain": [
       "55202.10196082047"
      ]
     },
     "execution_count": 11,
     "metadata": {},
     "output_type": "execute_result"
    }
   ],
   "source": [
    "solution = find_shortest_path(greedy_solution, dist_matrix)\n",
    "calculate_length(solution, dist_matrix, True)"
   ]
  },
  {
   "cell_type": "code",
   "execution_count": 12,
   "metadata": {},
   "outputs": [
    {
     "data": {
      "image/png": "[encoded data removed]",
      "text/plain": [
       "<Figure size 432x288 with 1 Axes>"
      ]
     },
     "metadata": {
      "needs_background": "light"
     },
     "output_type": "display_data"
    }
   ],
   "source": [
    "x = [p.x for p in points]\n",
    "y = [p.y for p in points]\n",
    "\n",
    "plt.plot(x, y, 'ro-')\n",
    "plt.axis('equal')\n",
    "plt.show()"
   ]
  },
  {
   "cell_type": "code",
   "execution_count": 13,
   "metadata": {},
   "outputs": [
    {
     "data": {
      "image/png": "[encoded data removed]",
      "text/plain": [
       "<Figure size 432x288 with 1 Axes>"
      ]
     },
     "metadata": {
      "needs_background": "light"
     },
     "output_type": "display_data"
    }
   ],
   "source": [
    "x_plots = [points[greedy_solution[-1]].x]\n",
    "y_plots = [points[greedy_solution[-1]].y]\n",
    "\n",
    "for i in greedy_solution:\n",
    "    x_plots.append(points[i].x)\n",
    "    y_plots.append(points[i].y)\n",
    "    \n",
    "plt.plot(x_plots, y_plots, 'ro-')\n",
    "plt.axis('equal')\n",
    "plt.show()"
   ]
  },
  {
   "cell_type": "code",
   "execution_count": 14,
   "metadata": {},
   "outputs": [
    {
     "data": {
      "image/png": "[encoded data removed]",
      "text/plain": [
       "<Figure size 432x288 with 1 Axes>"
      ]
     },
     "metadata": {
      "needs_background": "light"
     },
     "output_type": "display_data"
    }
   ],
   "source": [
    "x_plots = [points[solution[-1]].x]\n",
    "y_plots = [points[solution[-1]].y]\n",
    "\n",
    "for i in solution:\n",
    "    x_plots.append(points[i].x)\n",
    "    y_plots.append(points[i].y)\n",
    "    \n",
    "plt.plot(x_plots, y_plots, 'ro-')\n",
    "plt.axis('equal')\n",
    "plt.show()"
   ]
  },
  {
   "cell_type": "markdown",
   "metadata": {},
   "source": [
    "or tools"
   ]
  },
  {
   "cell_type": "code",
   "execution_count": 15,
   "metadata": {},
   "outputs": [],
   "source": [
    "def create_data_model(dist_matrix):\n",
    "    \"\"\"Stores the data for the problem.\"\"\"\n",
    "    data = {}\n",
    "    data['distance_matrix'] = dist_matrix.tolist() # yapf: disable\n",
    "    data['num_vehicles'] = 1\n",
    "    data['depot'] = 0\n",
    "    \n",
    "    return data"
   ]
  },
  {
   "cell_type": "code",
   "execution_count": 16,
   "metadata": {},
   "outputs": [],
   "source": [
    "def distance_callback(from_index, to_index):\n",
    "    \"\"\"Returns the distance between the two nodes.\"\"\"\n",
    "    # Convert from routing variable Index to distance matrix NodeIndex.\n",
    "    from_node = manager.IndexToNode(from_index)\n",
    "    to_node = manager.IndexToNode(to_index)\n",
    "    \n",
    "    return data['distance_matrix'][from_node][to_node]"
   ]
  },
  {
   "cell_type": "code",
   "execution_count": 17,
   "metadata": {},
   "outputs": [],
   "source": [
    "def print_solution(manager, routing, assignment):\n",
    "    \"\"\"Prints assignment on console.\"\"\"\n",
    "    print('Objective: {}'.format(assignment.ObjectiveValue()))\n",
    "    index = routing.Start(0)\n",
    "    plan_output = 'Route for vehicle 0:\\n'\n",
    "    route_distance = 0\n",
    "    while not routing.IsEnd(index):\n",
    "        plan_output += ' {} ->'.format(manager.IndexToNode(index))\n",
    "        previous_index = index\n",
    "        index = assignment.Value(routing.NextVar(index))\n",
    "        route_distance += routing.GetArcCostForVehicle(previous_index, index, 0)\n",
    "    plan_output += ' {}\\n'.format(manager.IndexToNode(index))\n",
    "    print(plan_output)\n",
    "    plan_output += 'Route distance: {}\\n'.format(route_distance)\n",
    "    \n",
    "    \n",
    "def get_solution(manager, routing, assignment):\n",
    "    \n",
    "    route_distance = 0\n",
    "    index = routing.Start(0)\n",
    "    solution = []\n",
    "\n",
    "    while not routing.IsEnd(index):\n",
    "        solution.append(manager.IndexToNode(index))\n",
    "        previous_index = index\n",
    "        index = assignment.Value(routing.NextVar(index))\n",
    "        route_distance += routing.GetArcCostForVehicle(previous_index, index, 0)\n",
    "\n",
    "    return solution, route_distance"
   ]
  },
  {
   "cell_type": "code",
   "execution_count": 19,
   "metadata": {},
   "outputs": [],
   "source": [
    "data = create_data_model(dist_matrix)\n",
    "\n",
    "manager = pywrapcp.RoutingIndexManager(len(data['distance_matrix']),\n",
    "                                       data['num_vehicles'], data['depot'])\n",
    "\n",
    "routing = pywrapcp.RoutingModel(manager)"
   ]
  },
  {
   "cell_type": "code",
   "execution_count": 20,
   "metadata": {},
   "outputs": [],
   "source": [
    "transit_callback_index = routing.RegisterTransitCallback(distance_callback)\n",
    "routing.SetArcCostEvaluatorOfAllVehicles(transit_callback_index)\n",
    "routing.SetArcCostEvaluatorOfAllVehicles(transit_callback_index)"
   ]
  },
  {
   "cell_type": "code",
   "execution_count": 21,
   "metadata": {},
   "outputs": [],
   "source": [
    "search_parameters = pywrapcp.DefaultRoutingSearchParameters()\n",
    "\n",
    "search_parameters.first_solution_strategy = (\n",
    "    routing_enums_pb2.FirstSolutionStrategy.PATH_CHEAPEST_ARC)\n",
    "\n",
    "search_parameters.local_search_metaheuristic = (\n",
    "    routing_enums_pb2.LocalSearchMetaheuristic.TABU_SEARCH)\n",
    "\n",
    "search_parameters.time_limit.seconds = 120\n",
    "search_parameters.log_search = True"
   ]
  },
  {
   "cell_type": "code",
   "execution_count": 22,
   "metadata": {},
   "outputs": [],
   "source": [
    "assignment = routing.SolveWithParameters(search_parameters)\n",
    "if assignment:\n",
    "    or_solution, obj = get_solution(manager, routing, assignment)"
   ]
  },
  {
   "cell_type": "code",
   "execution_count": 23,
   "metadata": {},
   "outputs": [
    {
     "data": {
      "text/plain": [
       "50415"
      ]
     },
     "execution_count": 23,
     "metadata": {},
     "output_type": "execute_result"
    }
   ],
   "source": [
    "obj"
   ]
  },
  {
   "cell_type": "code",
   "execution_count": 24,
   "metadata": {},
   "outputs": [
    {
     "data": {
      "image/png": "[encoded data removed]",
      "text/plain": [
       "<Figure size 432x288 with 1 Axes>"
      ]
     },
     "metadata": {
      "needs_background": "light"
     },
     "output_type": "display_data"
    }
   ],
   "source": [
    "x_plots = [points[or_solution[-1]].x]\n",
    "y_plots = [points[or_solution[-1]].y]\n",
    "\n",
    "for i in or_solution:\n",
    "    x_plots.append(points[i].x)\n",
    "    y_plots.append(points[i].y)\n",
    "    \n",
    "plt.plot(x_plots, y_plots, 'ro-')\n",
    "plt.axis('equal')\n",
    "plt.show()"
   ]
  },
  {
   "cell_type": "code",
   "execution_count": null,
   "metadata": {},
   "outputs": [],
   "source": []
  }
 ],
 "metadata": {
  "kernelspec": {
   "display_name": "Python 3",
   "language": "python",
   "name": "python3"
  },
  "language_info": {
   "codemirror_mode": {
    "name": "ipython",
    "version": 3
   },
   "file_extension": ".py",
   "mimetype": "text/x-python",
   "name": "python",
   "nbconvert_exporter": "python",
   "pygments_lexer": "ipython3",
   "version": "3.7.5"
  }
 },
 "nbformat": 4,
 "nbformat_minor": 2
}
